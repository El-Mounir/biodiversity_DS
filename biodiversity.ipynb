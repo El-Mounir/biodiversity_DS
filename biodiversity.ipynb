{
 "cells": [
  {
   "cell_type": "code",
   "execution_count": 239,
   "metadata": {},
   "outputs": [],
   "source": [
    "import scipy.stats as stats\n",
    "import numpy as np\n",
    "import pandas as pd\n",
    "import seaborn as sns\n",
    "import matplotlib.pyplot as plt"
   ]
  },
  {
   "cell_type": "code",
   "execution_count": 240,
   "metadata": {},
   "outputs": [
    {
     "name": "stdout",
     "output_type": "stream",
     "text": [
      "             category                scientific_name                                       common_names conservation_status                            park_name  observations\n",
      "0              Mammal  Clethrionomys gapperi gapperi                           Gapper's Red-Backed Vole                 NaN                  Bryce National Park           130\n",
      "1              Mammal  Clethrionomys gapperi gapperi                           Gapper's Red-Backed Vole                 NaN            Yellowstone National Park           270\n",
      "2              Mammal  Clethrionomys gapperi gapperi                           Gapper's Red-Backed Vole                 NaN  Great Smoky Mountains National Park            98\n",
      "3              Mammal  Clethrionomys gapperi gapperi                           Gapper's Red-Backed Vole                 NaN               Yosemite National Park           117\n",
      "4              Mammal                      Bos bison                              American Bison, Bison                 NaN               Yosemite National Park           128\n",
      "...               ...                            ...                                                ...                 ...                                  ...           ...\n",
      "25627  Vascular Plant              Vitis californica            California Grape, California Wild Grape                 NaN            Yellowstone National Park           237\n",
      "25628  Vascular Plant            Tribulus terrestris  Bullhead, Caltrop, Goathead, Mexican Sandbur, ...                 NaN  Great Smoky Mountains National Park            50\n",
      "25629  Vascular Plant            Tribulus terrestris  Bullhead, Caltrop, Goathead, Mexican Sandbur, ...                 NaN            Yellowstone National Park           239\n",
      "25630  Vascular Plant            Tribulus terrestris  Bullhead, Caltrop, Goathead, Mexican Sandbur, ...                 NaN                  Bryce National Park           111\n",
      "25631  Vascular Plant            Tribulus terrestris  Bullhead, Caltrop, Goathead, Mexican Sandbur, ...                 NaN               Yosemite National Park           156\n",
      "\n",
      "[25632 rows x 6 columns]\n"
     ]
    }
   ],
   "source": [
    "species_df = pd.read_csv('species_info.csv');\n",
    "observ_df = pd.read_csv('observations.csv');\n",
    "\n",
    "#pd.set_option('display.max_columns', None);\n",
    "pd.set_option('display.expand_frame_repr', False);\n",
    "\n",
    "biodiversity_df = pd.merge(species_df, observ_df, on = 'scientific_name', how = 'outer');\n",
    "print(biodiversity_df);\n"
   ]
  },
  {
   "cell_type": "code",
   "execution_count": 241,
   "metadata": {},
   "outputs": [
    {
     "name": "stdout",
     "output_type": "stream",
     "text": [
      "Index(['category', 'scientific_name', 'common_names', 'conservation_status',\n",
      "       'park_name', 'observations'],\n",
      "      dtype='object')\n",
      "['Mammal' 'Bird' 'Reptile' 'Amphibian' 'Fish' 'Vascular Plant'\n",
      " 'Nonvascular Plant']\n"
     ]
    }
   ],
   "source": [
    "print(biodiversity_df.columns);\n",
    "print(biodiversity_df.category.unique());"
   ]
  },
  {
   "cell_type": "code",
   "execution_count": 242,
   "metadata": {},
   "outputs": [
    {
     "name": "stdout",
     "output_type": "stream",
     "text": [
      "category               object\n",
      "scientific_name        object\n",
      "common_names           object\n",
      "conservation_status    object\n",
      "park_name              object\n",
      "observations            int64\n",
      "dtype: object\n"
     ]
    }
   ],
   "source": [
    "print(biodiversity_df.dtypes);"
   ]
  },
  {
   "cell_type": "code",
   "execution_count": 243,
   "metadata": {},
   "outputs": [
    {
     "name": "stdout",
     "output_type": "stream",
     "text": [
      "category                   0\n",
      "scientific_name            0\n",
      "common_names               0\n",
      "conservation_status    24752\n",
      "park_name                  0\n",
      "observations               0\n",
      "dtype: int64\n"
     ]
    }
   ],
   "source": [
    "print(biodiversity_df.isna().sum());"
   ]
  },
  {
   "cell_type": "code",
   "execution_count": 244,
   "metadata": {},
   "outputs": [
    {
     "name": "stdout",
     "output_type": "stream",
     "text": [
      "False    25601\n",
      "True        31\n",
      "dtype: int64\n"
     ]
    }
   ],
   "source": [
    "duplicates = biodiversity_df.duplicated();\n",
    "print(duplicates.value_counts());"
   ]
  },
  {
   "cell_type": "code",
   "execution_count": 245,
   "metadata": {},
   "outputs": [
    {
     "name": "stdout",
     "output_type": "stream",
     "text": [
      "False    25601\n",
      "dtype: int64\n"
     ]
    }
   ],
   "source": [
    "biodiversity_df = biodiversity_df.drop_duplicates();\n",
    "duplicates_bio = biodiversity_df.duplicated();\n",
    "print(duplicates_bio.value_counts());\n"
   ]
  },
  {
   "cell_type": "code",
   "execution_count": 246,
   "metadata": {},
   "outputs": [
    {
     "name": "stdout",
     "output_type": "stream",
     "text": [
      "             category                scientific_name                                       common_names conservation_status                            park_name  observations\n",
      "0              Mammal  Clethrionomys gapperi gapperi                           Gapper's Red-Backed Vole                 NaN                  Bryce National Park           130\n",
      "1              Mammal  Clethrionomys gapperi gapperi                           Gapper's Red-Backed Vole                 NaN            Yellowstone National Park           270\n",
      "2              Mammal  Clethrionomys gapperi gapperi                           Gapper's Red-Backed Vole                 NaN  Great Smoky Mountains National Park            98\n",
      "3              Mammal  Clethrionomys gapperi gapperi                           Gapper's Red-Backed Vole                 NaN               Yosemite National Park           117\n",
      "4              Mammal                      Bos bison                              American Bison, Bison                 NaN               Yosemite National Park           128\n",
      "...               ...                            ...                                                ...                 ...                                  ...           ...\n",
      "25596  Vascular Plant              Vitis californica            California Grape, California Wild Grape                 NaN            Yellowstone National Park           237\n",
      "25597  Vascular Plant            Tribulus terrestris  Bullhead, Caltrop, Goathead, Mexican Sandbur, ...                 NaN  Great Smoky Mountains National Park            50\n",
      "25598  Vascular Plant            Tribulus terrestris  Bullhead, Caltrop, Goathead, Mexican Sandbur, ...                 NaN            Yellowstone National Park           239\n",
      "25599  Vascular Plant            Tribulus terrestris  Bullhead, Caltrop, Goathead, Mexican Sandbur, ...                 NaN                  Bryce National Park           111\n",
      "25600  Vascular Plant            Tribulus terrestris  Bullhead, Caltrop, Goathead, Mexican Sandbur, ...                 NaN               Yosemite National Park           156\n",
      "\n",
      "[25601 rows x 6 columns]\n"
     ]
    }
   ],
   "source": [
    "biodiversity_df = biodiversity_df.reset_index(drop=True);\n",
    "print(biodiversity_df);"
   ]
  },
  {
   "cell_type": "code",
   "execution_count": 247,
   "metadata": {},
   "outputs": [
    {
     "name": "stdout",
     "output_type": "stream",
     "text": [
      "             category                scientific_name                                       common_names conservation_status                            park_name  observations  Bryce National Park  Yellowstone National Park  Great Smoky Mountains National Park  Yosemite National Park\n",
      "0              Mammal  Clethrionomys gapperi gapperi                           Gapper's Red-Backed Vole                 NaN                  Bryce National Park           130                  130                          0                                    0                       0\n",
      "1              Mammal  Clethrionomys gapperi gapperi                           Gapper's Red-Backed Vole                 NaN            Yellowstone National Park           270                    0                        270                                    0                       0\n",
      "2              Mammal  Clethrionomys gapperi gapperi                           Gapper's Red-Backed Vole                 NaN  Great Smoky Mountains National Park            98                    0                          0                                   98                       0\n",
      "3              Mammal  Clethrionomys gapperi gapperi                           Gapper's Red-Backed Vole                 NaN               Yosemite National Park           117                    0                          0                                    0                     117\n",
      "4              Mammal                      Bos bison                              American Bison, Bison                 NaN               Yosemite National Park           128                    0                          0                                    0                     128\n",
      "...               ...                            ...                                                ...                 ...                                  ...           ...                  ...                        ...                                  ...                     ...\n",
      "25596  Vascular Plant              Vitis californica            California Grape, California Wild Grape                 NaN            Yellowstone National Park           237                    0                        237                                    0                       0\n",
      "25597  Vascular Plant            Tribulus terrestris  Bullhead, Caltrop, Goathead, Mexican Sandbur, ...                 NaN  Great Smoky Mountains National Park            50                    0                          0                                   50                       0\n",
      "25598  Vascular Plant            Tribulus terrestris  Bullhead, Caltrop, Goathead, Mexican Sandbur, ...                 NaN            Yellowstone National Park           239                    0                        239                                    0                       0\n",
      "25599  Vascular Plant            Tribulus terrestris  Bullhead, Caltrop, Goathead, Mexican Sandbur, ...                 NaN                  Bryce National Park           111                  111                          0                                    0                       0\n",
      "25600  Vascular Plant            Tribulus terrestris  Bullhead, Caltrop, Goathead, Mexican Sandbur, ...                 NaN               Yosemite National Park           156                    0                          0                                    0                     156\n",
      "\n",
      "[25601 rows x 10 columns]\n"
     ]
    },
    {
     "data": {
      "text/plain": [
       "' def create_park_columns(sci_name_index, name_p):\\n    biodiversity_df[name_p] = biodiversity_df.observations[sci_name_index];\\n    return;\\n\\nfor location in biodiversity_list:\\n    for s_name in sci_name_list:\\n        for p_name in unique_park_name_list:\\n            if p_name == park_name_list[location]:\\n                create_park_columns(location,p_name);\\n\\nprint(biodiversity_df.head()); '"
      ]
     },
     "execution_count": 247,
     "metadata": {},
     "output_type": "execute_result"
    }
   ],
   "source": [
    "unique_park_name_list = list(biodiversity_df.park_name.unique());\n",
    "unique_sc_name_list = list(biodiversity_df.scientific_name.unique());\n",
    "biodiversity_list = list(range(0,len(biodiversity_df)));\n",
    "index_loc = 0;\n",
    "\n",
    "def create_park_columns(p_name):\n",
    "    biodiversity_df[p_name] = biodiversity_df.apply(lambda row: \\\n",
    "                                                    row['observations']\n",
    "                                                    if row['park_name'] == p_name\n",
    "                                                    else 0,\n",
    "                                                    axis = 1)\n",
    "    return\n",
    "\n",
    "\n",
    "def sum_of_observation(loc_inx,index_loc):\n",
    "    if biodiversity_df.park_name[loc_inx] == \"Bryce National Park\":\n",
    "        biodiversity_df[\"Bryce National Park\"][index_loc] = biodiversity_df[\"Bryce National Park\"][loc_inx];\n",
    "    elif biodiversity_df.park_name[loc_inx] == \"Yellowstone National Park\":\n",
    "        biodiversity_df[\"Yellowstone National Park\"][index_loc] = biodiversity_df[\"Yellowstone National Park\"][loc_inx];\n",
    "    elif biodiversity_df.park_name[loc_inx] == \"Great Smoky Mountains National Park\":\n",
    "        biodiversity_df[\"Great Smoky Mountains National Park\"][index_loc] = biodiversity_df[\"Great Smoky Mountains National Park\"][loc_inx];\n",
    "    else :\n",
    "        biodiversity_df[\"Yosemite National Park\"][index_loc] = biodiversity_df[\"Yosemite National Park\"][loc_inx];\n",
    "    return;\n",
    "\n",
    "for p_name in unique_park_name_list:\n",
    "    create_park_columns(p_name);\n",
    "\n",
    "#print(biodiversity_df.head())\n",
    "\"\"\" for sname in unique_sc_name_list:\n",
    "    first_loc = 0;\n",
    "    for loc_inx in biodiversity_list:\n",
    "        if biodiversity_df[\"scientific_name\"][loc_inx] == sname:\n",
    "            first_loc += 1;\n",
    "            sum_of_observation(loc_inx,index_loc);\n",
    "    index_loc += first_loc; \"\"\"\n",
    "        \n",
    "    #biodiversity_df = new_biodiversity_df.drop_duplicates(subset = biodiversity_df.columns[1:2]);\n",
    "    \n",
    "print(biodiversity_df);\n",
    "\n",
    "\n",
    "#sci_name_list = list(biodiversity_df.scientific_name.unique());\n",
    "#unique_park_name_list = list(biodiversity_df.park_name.unique());\n",
    "#park_name_list = list(biodiversity_df.park_name);\n",
    "#biodiversity_list = list(range(0,len(biodiversity_df)));\n",
    "#biodiversity_list = list(range(0,100));\n",
    "#print(unique_park_name_list);\n",
    "#print(park_name_list[0]);\n",
    "#print(biodiversity_df);\n",
    "\n",
    "\"\"\" def create_park_columns(sci_name_index, name_p):\n",
    "    biodiversity_df[name_p] = biodiversity_df.observations[sci_name_index];\n",
    "    return;\n",
    "\n",
    "for location in biodiversity_list:\n",
    "    for s_name in sci_name_list:\n",
    "        for p_name in unique_park_name_list:\n",
    "            if p_name == park_name_list[location]:\n",
    "                create_park_columns(location,p_name);\n",
    "\n",
    "print(biodiversity_df.head()); \"\"\"\n",
    "\n",
    "\n"
   ]
  },
  {
   "cell_type": "code",
   "execution_count": 279,
   "metadata": {},
   "outputs": [
    {
     "name": "stdout",
     "output_type": "stream",
     "text": [
      "[162608, 331606, 45822, 45068, 72901, 2791714, 190653]\n"
     ]
    },
    {
     "data": {
      "image/png": "[encoded data removed]",
      "text/plain": [
       "<Figure size 1000x500 with 1 Axes>"
      ]
     },
     "metadata": {},
     "output_type": "display_data"
    }
   ],
   "source": [
    "\"\"\" total_observations = [];\n",
    "\n",
    "bio_list = list(range(0, len(biodiversity_df.category)));\n",
    "category_list = list(biodiversity_df.category);\n",
    "observ_list = list(biodiversity_df.observations);\n",
    "\n",
    "for category in biodiversity_df.category.unique():\n",
    "    obv_count = 0;\n",
    "    for item in bio_list:\n",
    "        if category_list[item]== category:\n",
    "            obv_count+= observ_list[item];\n",
    "    total_observations.append(obv_count);\n",
    "\n",
    "print(total_observations);\n",
    "\n",
    "\n",
    "plt.figure(figsize=(10,5));\n",
    "ax = plt.subplot();\n",
    "plt.bar(x=biodiversity_df.category, height= len(total_observations));\n",
    "plt.xlabel(\"Animal category\");\n",
    "plt.show(); \"\"\""
   ]
  }
 ],
 "metadata": {
  "kernelspec": {
   "display_name": "base",
   "language": "python",
   "name": "python3"
  },
  "language_info": {
   "codemirror_mode": {
    "name": "ipython",
    "version": 3
   },
   "file_extension": ".py",
   "mimetype": "text/x-python",
   "name": "python",
   "nbconvert_exporter": "python",
   "pygments_lexer": "ipython3",
   "version": "3.9.13"
  }
 },
 "nbformat": 4,
 "nbformat_minor": 4
}
