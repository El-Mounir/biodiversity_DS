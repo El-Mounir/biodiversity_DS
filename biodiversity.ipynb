{
 "cells": [
  {
   "cell_type": "code",
   "execution_count": 298,
   "metadata": {},
   "outputs": [],
   "source": [
    "import numpy as np\n",
    "import pandas as pd\n",
    "import seaborn as sns\n",
    "import matplotlib.pyplot as plt\n",
    "from scipy.stats import chi2_contingency\n",
    "from itertools import chain\n",
    "import string"
   ]
  },
  {
   "cell_type": "code",
   "execution_count": 3,
   "metadata": {},
   "outputs": [
    {
     "name": "stdout",
     "output_type": "stream",
     "text": [
      "             category                scientific_name                                       common_names conservation_status                            park_name  observations\n",
      "0              Mammal  Clethrionomys gapperi gapperi                           Gapper's Red-Backed Vole                 NaN                  Bryce National Park           130\n",
      "1              Mammal  Clethrionomys gapperi gapperi                           Gapper's Red-Backed Vole                 NaN            Yellowstone National Park           270\n",
      "2              Mammal  Clethrionomys gapperi gapperi                           Gapper's Red-Backed Vole                 NaN  Great Smoky Mountains National Park            98\n",
      "3              Mammal  Clethrionomys gapperi gapperi                           Gapper's Red-Backed Vole                 NaN               Yosemite National Park           117\n",
      "4              Mammal                      Bos bison                              American Bison, Bison                 NaN               Yosemite National Park           128\n",
      "...               ...                            ...                                                ...                 ...                                  ...           ...\n",
      "25627  Vascular Plant              Vitis californica            California Grape, California Wild Grape                 NaN            Yellowstone National Park           237\n",
      "25628  Vascular Plant            Tribulus terrestris  Bullhead, Caltrop, Goathead, Mexican Sandbur, ...                 NaN  Great Smoky Mountains National Park            50\n",
      "25629  Vascular Plant            Tribulus terrestris  Bullhead, Caltrop, Goathead, Mexican Sandbur, ...                 NaN            Yellowstone National Park           239\n",
      "25630  Vascular Plant            Tribulus terrestris  Bullhead, Caltrop, Goathead, Mexican Sandbur, ...                 NaN                  Bryce National Park           111\n",
      "25631  Vascular Plant            Tribulus terrestris  Bullhead, Caltrop, Goathead, Mexican Sandbur, ...                 NaN               Yosemite National Park           156\n",
      "\n",
      "[25632 rows x 6 columns]\n"
     ]
    }
   ],
   "source": [
    "species_df = pd.read_csv('species_info.csv', encoding='utf-8');\n",
    "observ_df = pd.read_csv('observations.csv', encoding='utf-8');\n",
    "\n",
    "pd.set_option('display.expand_frame_repr', False);\n",
    "\n",
    "biodiversity_df = pd.merge(species_df, observ_df, on = 'scientific_name', how = 'outer');\n",
    "print(biodiversity_df);\n"
   ]
  },
  {
   "cell_type": "code",
   "execution_count": 4,
   "metadata": {},
   "outputs": [],
   "source": [
    "#print(biodiversity_df.columns);\n",
    "#print(biodiversity_df.category.unique());\n",
    "biodiversity_df.groupby(\"category\").size();"
   ]
  },
  {
   "cell_type": "code",
   "execution_count": 5,
   "metadata": {},
   "outputs": [
    {
     "name": "stdout",
     "output_type": "stream",
     "text": [
      "category               object\n",
      "scientific_name        object\n",
      "common_names           object\n",
      "conservation_status    object\n",
      "park_name              object\n",
      "observations            int64\n",
      "dtype: object\n"
     ]
    }
   ],
   "source": [
    "print(biodiversity_df.dtypes);"
   ]
  },
  {
   "cell_type": "code",
   "execution_count": 6,
   "metadata": {},
   "outputs": [
    {
     "name": "stdout",
     "output_type": "stream",
     "text": [
      "category                   0\n",
      "scientific_name            0\n",
      "common_names               0\n",
      "conservation_status    24752\n",
      "park_name                  0\n",
      "observations               0\n",
      "dtype: int64\n"
     ]
    }
   ],
   "source": [
    "print(biodiversity_df.isna().sum());"
   ]
  },
  {
   "cell_type": "code",
   "execution_count": 7,
   "metadata": {},
   "outputs": [
    {
     "name": "stdout",
     "output_type": "stream",
     "text": [
      "False    25601\n",
      "True        31\n",
      "dtype: int64\n"
     ]
    }
   ],
   "source": [
    "duplicates = biodiversity_df.duplicated();\n",
    "print(duplicates.value_counts());"
   ]
  },
  {
   "cell_type": "code",
   "execution_count": 8,
   "metadata": {},
   "outputs": [
    {
     "name": "stdout",
     "output_type": "stream",
     "text": [
      "False    25601\n",
      "dtype: int64\n",
      "conservation_status\n",
      "Endangered             80\n",
      "In Recovery            24\n",
      "Species of Concern    732\n",
      "Threatened             44\n",
      "dtype: int64\n"
     ]
    }
   ],
   "source": [
    "biodiversity_df = biodiversity_df.drop_duplicates();\n",
    "duplicates_bio = biodiversity_df.duplicated();\n",
    "print(duplicates_bio.value_counts());\n",
    "print(biodiversity_df.groupby(\"conservation_status\").size());\n"
   ]
  },
  {
   "cell_type": "code",
   "execution_count": 283,
   "metadata": {},
   "outputs": [
    {
     "name": "stdout",
     "output_type": "stream",
     "text": [
      "             category                scientific_name                                       common_names conservation_status                            park_name  observations\n",
      "0              Mammal  Clethrionomys gapperi gapperi                           Gapper's Red-Backed Vole           No status                  Bryce National Park           130\n",
      "1              Mammal  Clethrionomys gapperi gapperi                           Gapper's Red-Backed Vole           No status            Yellowstone National Park           270\n",
      "2              Mammal  Clethrionomys gapperi gapperi                           Gapper's Red-Backed Vole           No status  Great Smoky Mountains National Park            98\n",
      "3              Mammal  Clethrionomys gapperi gapperi                           Gapper's Red-Backed Vole           No status               Yosemite National Park           117\n",
      "4              Mammal                      Bos bison                              American Bison, Bison           No status               Yosemite National Park           128\n",
      "...               ...                            ...                                                ...                 ...                                  ...           ...\n",
      "25596  Vascular Plant              Vitis californica            California Grape, California Wild Grape           No status            Yellowstone National Park           237\n",
      "25597  Vascular Plant            Tribulus terrestris  Bullhead, Caltrop, Goathead, Mexican Sandbur, ...           No status  Great Smoky Mountains National Park            50\n",
      "25598  Vascular Plant            Tribulus terrestris  Bullhead, Caltrop, Goathead, Mexican Sandbur, ...           No status            Yellowstone National Park           239\n",
      "25599  Vascular Plant            Tribulus terrestris  Bullhead, Caltrop, Goathead, Mexican Sandbur, ...           No status                  Bryce National Park           111\n",
      "25600  Vascular Plant            Tribulus terrestris  Bullhead, Caltrop, Goathead, Mexican Sandbur, ...           No status               Yosemite National Park           156\n",
      "\n",
      "[25601 rows x 6 columns]\n"
     ]
    }
   ],
   "source": [
    "biodiversity_df = biodiversity_df.reset_index(drop=True);\n",
    "print(biodiversity_df);"
   ]
  },
  {
   "cell_type": "code",
   "execution_count": 284,
   "metadata": {},
   "outputs": [
    {
     "name": "stdout",
     "output_type": "stream",
     "text": [
      "conservation_status\n",
      "Endangered               80\n",
      "In Recovery              24\n",
      "No status             24721\n",
      "Species of Concern      732\n",
      "Threatened               44\n",
      "dtype: int64\n"
     ]
    }
   ],
   "source": [
    "biodiversity_df.fillna('No status', inplace = True);\n",
    "print(biodiversity_df.groupby(\"conservation_status\").size());"
   ]
  },
  {
   "cell_type": "code",
   "execution_count": 285,
   "metadata": {},
   "outputs": [],
   "source": [
    "unique_sc_name_list = list(biodiversity_df.scientific_name.unique());\n",
    "unique_category_name_list = list(biodiversity_df.category.unique())\n",
    "unique_park_name_list = list(biodiversity_df.park_name.unique());\n",
    "unique_common_name_list = list(biodiversity_df.common_names.unique());"
   ]
  },
  {
   "cell_type": "code",
   "execution_count": 286,
   "metadata": {},
   "outputs": [
    {
     "name": "stdout",
     "output_type": "stream",
     "text": [
      "conservation_status\n",
      "Endangered              16\n",
      "In Recovery              4\n",
      "No status             5633\n",
      "Species of Concern     161\n",
      "Threatened              10\n",
      "dtype: int64\n"
     ]
    }
   ],
   "source": [
    "conservationPerPark = pd.pivot_table(biodiversity_df, values = 'observations', index = ['category', 'scientific_name','common_names','conservation_status'], columns = ['park_name']).reset_index();\n",
    "#conservationPerPark.common_names = conservationPerPark.common_names.replace(punctuation,'', regex = True);\n",
    "#print(conservationPerPark.head());\n",
    "#print(len(conservationPerPark));\n",
    "print(conservationPerPark.groupby(\"conservation_status\").size());"
   ]
  },
  {
   "cell_type": "code",
   "execution_count": 287,
   "metadata": {},
   "outputs": [
    {
     "data": {
      "image/png": "[encoded data removed]",
      "text/plain": [
       "<Figure size 600x500 with 1 Axes>"
      ]
     },
     "metadata": {},
     "output_type": "display_data"
    }
   ],
   "source": [
    "plt.figure(figsize=(6,5));\n",
    "sns.histplot(conservationPerPark.category);\n",
    "plt.xticks(rotation = 30);\n",
    "plt.xlabel(\"Species categories\");\n",
    "plt.ylabel('number of species');\n",
    "plt.show();"
   ]
  },
  {
   "cell_type": "code",
   "execution_count": 288,
   "metadata": {},
   "outputs": [
    {
     "name": "stdout",
     "output_type": "stream",
     "text": [
      "category conservation_status  Amphibian  Bird  Fish  Mammal  Nonvascular Plant  Reptile  Vascular Plant\n",
      "0                 Endangered        1.0   4.0   3.0     7.0                NaN      NaN             1.0\n",
      "1                In Recovery        NaN   3.0   NaN     1.0                NaN      NaN             NaN\n",
      "2         Species of Concern        4.0  72.0   4.0    28.0                5.0      5.0            43.0\n",
      "3                 Threatened        2.0   NaN   4.0     2.0                NaN      NaN             2.0\n"
     ]
    }
   ],
   "source": [
    "conservationStatusCategory = conservationPerPark[conservationPerPark.conservation_status != \"No status\"].groupby([\"conservation_status\", \"category\"])['scientific_name'].count().unstack().reset_index();\n",
    "print(conservationStatusCategory)\n",
    "unique_conservation_status = list(conservationStatusCategory.conservation_status.unique());"
   ]
  },
  {
   "cell_type": "code",
   "execution_count": 289,
   "metadata": {},
   "outputs": [
    {
     "data": {
      "image/png": "[encoded data removed]",
      "text/plain": [
       "<Figure size 600x600 with 1 Axes>"
      ]
     },
     "metadata": {},
     "output_type": "display_data"
    }
   ],
   "source": [
    "ax = conservationStatusCategory.plot(kind = 'bar', stacked = True, figsize=(6,6));\n",
    "plt.xticks(fontsize = 9, rotation = 0);\n",
    "ax.set_xticklabels(unique_conservation_status);\n",
    "ax.set_xlabel(\"Conservation Status\")\n",
    "ax.set_ylabel(\"Number of Species\");\n",
    "ax.set_title(\"Conservation status per number of species\");\n",
    "plt.show();"
   ]
  },
  {
   "cell_type": "code",
   "execution_count": 290,
   "metadata": {},
   "outputs": [
    {
     "name": "stdout",
     "output_type": "stream",
     "text": [
      "conservation_status           category  Endangered  In Recovery  Species of Concern  Threatened\n",
      "0                            Amphibian         1.0          NaN                 4.0         2.0\n",
      "1                                 Bird         4.0          3.0                68.0         NaN\n",
      "2                                 Fish         3.0          NaN                 4.0         4.0\n",
      "3                               Mammal         6.0          NaN                22.0         2.0\n",
      "4                    Nonvascular Plant         NaN          NaN                 5.0         NaN\n",
      "5                              Reptile         NaN          NaN                 5.0         NaN\n",
      "6                       Vascular Plant         1.0          NaN                43.0         2.0\n"
     ]
    }
   ],
   "source": [
    "speciesAtRisk = conservationPerPark[conservationPerPark.conservation_status != 'No status'];\n",
    "speciesAtRisk = speciesAtRisk.drop_duplicates(subset = speciesAtRisk.columns[:2]);\n",
    "categoryStatus_df = speciesAtRisk[speciesAtRisk.conservation_status != 'No status'].groupby([\"category\",\"conservation_status\"])['scientific_name'].count().unstack().reset_index();\n",
    "print(categoryStatus_df);"
   ]
  },
  {
   "cell_type": "code",
   "execution_count": null,
   "metadata": {},
   "outputs": [],
   "source": [
    "#fig, [[axis, axis1] , [axis2 , axis3]] = plt.subplots(2, 2, sharey = True, figsize = (6, 5));\n",
    "#axis= sns.barplot(x = categoryStatus_df.category, y = categoryStatus_df['Endangered']);\n",
    "#plt.xlabel(\"species\");\n",
    "#plt.ylabel('Total count');\n",
    "#axis1= sns.barplot(x = categoryStatus_df.category, y = categoryStatus_df['In Recovery']);\n",
    "#plt.xlabel(\"species\");\n",
    "#plt.ylabel('Total count');\n",
    "#axis2= sns.barplot(x = categoryStatus_df.category, y = categoryStatus_df['Species of Concern']);\n",
    "#plt.xlabel(\"species\");\n",
    "#plt.ylabel('Total count');\n",
    "#axis3= sns.barplot(x = categoryStatus_df.category, y = categoryStatus_df['Threatened']);\n",
    "#plt.xlabel(\"species\");\n",
    "#plt.ylabel('Total count');"
   ]
  },
  {
   "cell_type": "code",
   "execution_count": 291,
   "metadata": {},
   "outputs": [
    {
     "name": "stdout",
     "output_type": "stream",
     "text": [
      "conservation_status           category  Endangered  In Recovery  Species of Concern  Threatened  Total count\n",
      "0                            Amphibian         1.0          NaN                 4.0         2.0          7.0\n",
      "1                                 Bird         4.0          3.0                68.0         NaN         75.0\n",
      "2                                 Fish         3.0          NaN                 4.0         4.0         11.0\n",
      "3                               Mammal         6.0          NaN                22.0         2.0         30.0\n",
      "4                    Nonvascular Plant         NaN          NaN                 5.0         NaN          5.0\n",
      "5                              Reptile         NaN          NaN                 5.0         NaN          5.0\n",
      "6                       Vascular Plant         1.0          NaN                43.0         2.0         46.0\n"
     ]
    }
   ],
   "source": [
    "categoryStatus_df['Total count'] = categoryStatus_df[unique_conservation_status].agg('sum', axis = 1);\n",
    "#print(unique_conservation_status)\n",
    "print(categoryStatus_df)"
   ]
  },
  {
   "cell_type": "code",
   "execution_count": 292,
   "metadata": {},
   "outputs": [
    {
     "name": "stdout",
     "output_type": "stream",
     "text": [
      "            category  No Risk  With Risk\n",
      "0          Amphibian       72          7\n",
      "1               Bird      413         75\n",
      "2               Fish      115         11\n",
      "3             Mammal      146         30\n",
      "4  Nonvascular Plant      328          5\n",
      "5            Reptile       73          5\n",
      "6     Vascular Plant     4216         46\n"
     ]
    }
   ],
   "source": [
    "categoryRiskStatus = conservationPerPark[conservationPerPark.conservation_status == 'No status'];\n",
    "categoryRiskStatus = categoryRiskStatus.drop_duplicates(subset = categoryRiskStatus.columns[:2]);\n",
    "categoryRiskStatus['With Risk'] =  categoryRiskStatus.conservation_status != 'No status'\n",
    "categoryRiskStatus = categoryRiskStatus.groupby(['With Risk','category']).scientific_name.nunique().reset_index().pivot(columns = 'With Risk', index = 'category', values = 'scientific_name').reset_index();\n",
    "categoryRiskStatus['Total count'] = categoryStatus_df[unique_conservation_status].agg('sum', axis = 1);\n",
    "categoryRiskStatus.columns = ['category','No Risk','With Risk'];\n",
    "categoryRiskStatus['With Risk'] = np.round(categoryRiskStatus['With Risk']).astype(int);\n",
    "print(categoryRiskStatus);"
   ]
  },
  {
   "cell_type": "code",
   "execution_count": 293,
   "metadata": {},
   "outputs": [
    {
     "name": "stdout",
     "output_type": "stream",
     "text": [
      "            category  No Risk  With Risk  Percentage\n",
      "0          Amphibian       72          7    8.860759\n",
      "1               Bird      413         75   15.368852\n",
      "2               Fish      115         11    8.730159\n",
      "3             Mammal      146         30   17.045455\n",
      "4  Nonvascular Plant      328          5    1.501502\n",
      "5            Reptile       73          5    6.410256\n",
      "6     Vascular Plant     4216         46    1.079305\n"
     ]
    }
   ],
   "source": [
    "categoryRiskStatus = categoryRiskStatus.assign(Percentage = lambda x: (x['With Risk'] / (x['With Risk'] + x['No Risk']) * 100));\n",
    "print(categoryRiskStatus);"
   ]
  },
  {
   "cell_type": "code",
   "execution_count": 294,
   "metadata": {},
   "outputs": [
    {
     "name": "stdout",
     "output_type": "stream",
     "text": [
      "(0.1617014831654557, 0.6875948096661336, 1, array([[ 27.8313253, 148.1686747],\n",
      "       [ 77.1686747, 410.8313253]]))\n"
     ]
    }
   ],
   "source": [
    "# calling chi_square to verify p-value between Mammal and Bird\n",
    "contingency1 = [[30, 146],[75, 413]]\n",
    "chi2_contingency(contingency1);\n",
    "print(chi2_contingency(contingency1));"
   ]
  },
  {
   "cell_type": "code",
   "execution_count": 295,
   "metadata": {},
   "outputs": [
    {
     "name": "stdout",
     "output_type": "stream",
     "text": [
      "(4.289183096203645, 0.03835559022969898, 1, array([[ 24.2519685, 151.7480315],\n",
      "       [ 10.7480315,  67.2519685]]))\n"
     ]
    }
   ],
   "source": [
    "# calling chi_square to verify p-value between Mammal and Reptile\n",
    "contingency2 = [[30, 146],[5, 73]]\n",
    "chi2_contingency(contingency2);\n",
    "print(chi2_contingency(contingency2));"
   ]
  },
  {
   "cell_type": "code",
   "execution_count": 296,
   "metadata": {},
   "outputs": [
    {
     "name": "stdout",
     "output_type": "stream",
     "text": [
      "(3.647651024981415, 0.0561483484489001, 1, array([[ 23.89403974, 152.10596026],\n",
      "       [ 17.10596026, 108.89403974]]))\n"
     ]
    }
   ],
   "source": [
    "# calling chi_square to verify p-value between Mammal and Fish\n",
    "contingency3 = [[30, 146],[11, 115]]\n",
    "chi2_contingency(contingency3);\n",
    "print(chi2_contingency(contingency3));"
   ]
  },
  {
   "cell_type": "code",
   "execution_count": 309,
   "metadata": {},
   "outputs": [
    {
     "name": "stdout",
     "output_type": "stream",
     "text": [
      "['Eurasian', 'Elk', 'Moose', 'Yellowstone', 'Moose', 'Antelope', 'Pronghorn', 'Pallid', 'Bat', 'Sierra', 'Nevada', 'Mountain', 'Beaver', 'Ringtail', 'Bison', 'Buffalo', 'Northern', 'Short', 'Tailed', 'Shrew', 'ShortTailed', 'American', 'Bison', 'Aurochs', 'Domestic', 'Cattle', 'Feral', 'Domesticated', 'GoldenMantled', 'Ground', 'Squirrel', 'Coyote', 'Gray', 'Wolf', 'Gray', 'Wolf', 'Gray', 'Wolf', 'Red', 'Wolf', 'American', 'Beaver', 'American', 'Beaver', 'Beaver', 'Rocky', 'Mountain', 'Elk', 'Wapiti', 'Or', 'Elk', 'California', 'Pocket', 'Mouse', 'Southern', 'RedBacked', 'Vole', 'Gappers', 'RedBacked', 'Vole', 'StarNosed', 'Mole', 'Rafinesques', 'BigEared', 'Bat', 'MuleEared', 'Bat', 'Pacific', 'Townsends', 'BigEared', 'Western', 'LongEared', 'LumpNosed', 'Townsends', 'BigEared', 'Bat', 'Least', 'Shrew', 'Virginia', 'Opossum', 'Virginia', 'Opossum', 'Oppossum', 'Big', 'Brown', 'Bat', 'Big', 'Brown', 'Bat', 'Feral', 'Horse', 'Common', 'Porcupine', 'Porcupine', 'Spotted', 'Bat', 'Western', 'Mastiff', 'Bat', 'Mountain', 'Lion', 'Wild', 'Cat', 'Wildcat', 'Northern', 'Flying', 'Squirrel', 'Carolina', 'Northern', 'Flying', 'Squirrel', 'Southern', 'Flying', 'Squirrel', 'Wolverine', 'Human', 'Humans', 'Man', 'SilverHaired', 'Bat', 'SilverHaired', 'Bat', 'Western', 'Red', 'Bat', 'Eastern', 'Red', 'Bat', 'Hoary', 'Bat', 'Hoary', 'Bat', 'Sagebrush', 'Vole', 'Snowshoe', 'Hare', 'Sierra', 'Nevada', 'Snowshoe', 'Hare', 'WhiteTailed', 'Jack', 'Rabbit', 'Jackrabbit', 'Western', 'WhiteTailed', 'Jackrabbit', 'River', 'Otter', 'Northern', 'River', 'Otter', 'River', 'Otter', 'Canada', 'Lynx', 'Canadian', 'Bobcat', 'YellowBellied', 'Marmot', 'Woodchuck', 'American', 'Marten', 'Pine', 'Marten', 'Fisher', 'Striped', 'Skunk', 'California', 'Meadow', 'Mouse', 'Rock', 'Vole', 'Southern', 'Coronation', 'Island', 'Vole', 'LongTailed', 'LongTailed', 'Vole', 'Montane', 'Vole', 'Meadow', 'Vole', 'Woodland', 'Vole', 'Richardson', 'Water', 'Vole', 'House', 'Mouse', 'Mink', 'Or', 'Weasel', 'Ermine', 'Ermine', 'Short', 'Tailed', 'Weasel', 'LongTailed', 'Weasel', 'Least', 'Weasel', 'American', 'Mink', 'Mink', 'Mississippi', 'Myotis', 'Southeastern', 'California', 'Myotis', 'California', 'Myotis', 'Californian', 'SmallFooted', 'Myotis', 'SmallFooted', 'Myotis', 'Western', 'Bat', 'LongEared', 'Myotis', 'Gray', 'Myotis', 'Keens', 'Myotis', 'Eastern', 'SmallFooted', 'Bat', 'Myotis', 'Little', 'Brown', 'Bat', 'Myotis', 'Little', 'Brown', 'Bat', 'Myotis', 'Little', 'Brown', 'Myotis', 'Northern', 'LongEared', 'Bat', 'Myotis', 'Indiana', 'Bat', 'Or', 'Social', 'Myotis', 'Fringed', 'Myotis', 'LongLegged', 'Myotis', 'Yuma', 'Myotis', 'Woodland', 'Jumping', 'Mouse', 'Yellow', 'Pine', 'Chipmunk', 'Least', 'Chipmunk', 'Uinta', 'Chipmunk', 'BushyTailed', 'Woodrat', 'Eastern', 'Woodrat', 'BigEared', 'Woodrat', 'BigEared', 'Woodrat', 'Allegheny', 'Woodrat', 'Appalachian', 'American', 'Mink', 'Evening', 'Bat', 'American', 'Pika', 'Pika', 'Golden', 'Mouse', 'Mule', 'Deer', 'WhiteTailed', 'Deer', 'WhiteTailed', 'Deer', 'Common', 'Muskrat', 'Muskbeaver', 'Muskrat', 'Mountain', 'Goat', 'Rocky', 'Marsh', 'Rice', 'Rat', 'Marsh', 'Rice', 'Rat', 'California', 'Ground', 'Squirrel', 'Domestic', 'Sheep', 'Mouflon', 'Red', 'Feral', 'Bighorn', 'Sheep', 'Sierra', 'Nevada', 'Bighorn', 'Sheep', 'HairyTailed', 'Mole', 'Canyon', 'Bat', 'Fisher', 'Brush', 'Deermouse', 'Mouse', 'California', 'Mouse', 'Cotton', 'Mouse', 'WhiteFooted', 'Mouse', 'Deer', 'Mouse', 'Deer', 'Mouse', 'North', 'American', 'Deermouse', 'PiOn', 'Deermouse', 'Mouse', 'Pinyon', 'Heather', 'Vole', 'Western', 'Eastern', 'Pipistrelle', 'Common', 'Raccoon', 'Northern', 'Common', 'Raccoon', 'Raccoon', 'Cougar', 'Mountain', 'Lion', 'Puma', 'Mountain', 'Lion', 'Panther', 'Mountain', 'Lion', 'Norway', 'Rat', 'Black', 'Rat', 'Eastern', 'Harvest', 'Mouse', 'Western', 'Harvest', 'Mouse', 'Eastern', 'Mole', 'BroadFooted', 'Mole', 'Eastern', 'Gray', 'Squirrel', 'Western', 'Gray', 'Squirrel', 'Eastern', 'Fox', 'Squirrel', 'Cinereus', 'Shrew', 'Common', 'Masked', 'Common', 'Shrew', 'Masked', 'LongTailed', 'Or', 'Rock', 'Shrew', 'Smoky', 'Shrew', 'American', 'Pygmy', 'Shrew', 'Pygmy', 'Shrew', 'Southeastern', 'Shrew', 'Mount', 'Lyell', 'Shrew', 'Dusky', 'Shrew', 'Montane', 'Shrew', 'Dwarf', 'Shrew', 'Rocky', 'Mountain', 'American', 'Water', 'Shrew', 'Northern', 'Water', 'Shrew', 'Malheur', 'Shrew', 'Prebles', 'Inyo', 'Shrew', 'Trowbridges', 'Shrew', 'Uinta', 'Ground', 'Squirrel', 'GoldenMantled', 'Ground', 'Squirrel', 'Western', 'Spotted', 'Skunk', 'Eastern', 'Spotted', 'Skunk', 'Spotted', 'Skunk', 'Feral', 'Hog', 'Wild', 'Pig', 'Pig', 'Feral', 'Wild', 'Boar', 'Desert', 'Cottontail', 'Brush', 'Rabbit', 'Eastern', 'Cottontail', 'Mountain', 'Cottontail', 'Appalachian', 'Cottontail', 'New', 'England', 'Cottontail', 'Southern', 'Bog', 'Lemming', 'Stones', 'Southern', 'Bog', 'Lemming', 'Mexican', 'FreeTailed', 'Bat', 'Alpine', 'Chipmunk', 'YellowPine', 'Chipmunk', 'Merriams', 'Chipmunk', 'Least', 'Chipmunk', 'LongEared', 'Chipmunk', 'Allens', 'Chipmunk', 'Shadow', 'Lodgepole', 'Chipmunk', 'Eastern', 'Chipmunk', 'Inyo', 'Chipmunk', 'Uinta', 'Chipmunk', 'Chickaree', 'Red', 'Squirrel', 'American', 'Badger', 'Badger', 'Bottas', 'Pocket', 'Gopher', 'Mountain', 'Pocket', 'Gopher', 'Northern', 'Pocket', 'Gopher', 'Beldings', 'Ground', 'Squirrel', 'Common', 'Gray', 'Fox', 'Gray', 'Fox', 'American', 'Black', 'Bear', 'Black', 'Bear', 'Brown', 'Bear', 'Grizzly', 'Grizzly', 'Bear', 'Black', 'Fox', 'Cross', 'Red', 'Silver', 'Red', 'Fox', 'Sierra', 'Nevada', 'Red', 'Fox', 'Meadow', 'Jumping', 'Mouse', 'Western', 'Jumping', 'Mouse']\n"
     ]
    }
   ],
   "source": [
    "def remove_punctuations(text):\n",
    "    for punctuation in string.punctuation:\n",
    "        text = text.replace(punctuation, '')\n",
    "    return text\n",
    "\n",
    "common_Names = conservationPerPark[conservationPerPark.category == \"Mammal\"].common_names.apply(remove_punctuations).str.split().tolist();\n",
    "cleanRows = [];\n",
    "for name in common_Names:\n",
    "    name = list(dict.fromkeys(name));\n",
    "    cleanRows.append(name);\n",
    "\n",
    "commonNamesList = list(chain.from_iterable(name if isinstance(name, list) else [name] for name in cleanRows));\n",
    "print(commonNamesList);"
   ]
  },
  {
   "cell_type": "code",
   "execution_count": 310,
   "metadata": {},
   "outputs": [
    {
     "name": "stdout",
     "output_type": "stream",
     "text": [
      "         Word  Count\n",
      "194       Bat     23\n",
      "159     Shrew     18\n",
      "202    Myotis     17\n",
      "76      Mouse     16\n",
      "11   Chipmunk     13\n",
      "146  Squirrel     12\n",
      "88   American     12\n",
      "65    Eastern     11\n",
      "40       Vole     11\n",
      "118  Mountain     10\n"
     ]
    }
   ],
   "source": [
    "common_words_count = [];\n",
    "\n",
    "for name in commonNamesList:\n",
    "    count = commonNamesList.count(name);\n",
    "    common_words_count.append((name,count));\n",
    "\n",
    "common_words_df = pd.DataFrame(set(common_words_count), columns =['Word', 'Count']).sort_values(\"Count\", ascending = False);\n",
    "print(common_words_df.head(10));\n",
    "\n"
   ]
  },
  {
   "cell_type": "code",
   "execution_count": 316,
   "metadata": {},
   "outputs": [
    {
     "name": "stdout",
     "output_type": "stream",
     "text": [
      "park_name category            scientific_name                                       common_names conservation_status  Bryce National Park  Great Smoky Mountains National Park  Yellowstone National Park  Yosemite National Park  is_bat  bat specie\n",
      "731         Mammal         Antrozous pallidus                             Pallid Bat, Pallid Bat  Species of Concern            67.000000                                 61.0                 244.000000                   134.0    True        True\n",
      "753         Mammal   Corynorhinus rafinesquii                         Rafinesque's Big-Eared Bat           No status            57.000000                                 80.0                 259.000000                   188.0    True        True\n",
      "754         Mammal    Corynorhinus townsendii  Mule-Eared Bat, Pacific Townsend's Big-Eared B...           No status           113.000000                                 92.5                 253.000000                   147.0    True        True\n",
      "755         Mammal    Corynorhinus townsendii                           Townsend's Big-Eared Bat           No status           113.000000                                 92.5                 253.000000                   147.0    True        True\n",
      "759         Mammal           Eptesicus fuscus                                      Big Brown Bat  Species of Concern            92.000000                                 73.0                 231.500000                   127.0    True        True\n",
      "760         Mammal           Eptesicus fuscus                       Big Brown Bat, Big Brown Bat  Species of Concern            92.000000                                 73.0                 231.500000                   127.0    True        True\n",
      "764         Mammal          Euderma maculatum                           Spotted Bat, Spotted Bat  Species of Concern            74.000000                                 94.0                 225.000000                   111.0    True        True\n",
      "765         Mammal             Eumops perotis                                Western Mastiff Bat           No status           113.000000                                 40.0                 258.000000                   172.0    True        True\n",
      "773         Mammal  Lasionycteris noctivagans                                  Silver-Haired Bat  Species of Concern           114.000000                                 37.5                 225.000000                   133.0    True        True\n",
      "774         Mammal  Lasionycteris noctivagans               Silver-Haired Bat, Silver-Haired Bat  Species of Concern           114.000000                                 37.5                 225.000000                   133.0    True        True\n",
      "775         Mammal      Lasiurus blossevillii                                    Western Red Bat  Species of Concern           113.000000                                 70.0                 221.000000                   123.0    True        True\n",
      "776         Mammal          Lasiurus borealis                           Eastern Red Bat, Red Bat           No status           121.000000                                127.0                 296.000000                   134.0    True        True\n",
      "777         Mammal          Lasiurus cinereus                                          Hoary Bat           No status            93.500000                                 72.0                 246.500000                   132.5    True        True\n",
      "778         Mammal          Lasiurus cinereus                               Hoary Bat, Hoary Bat           No status            93.500000                                 72.0                 246.500000                   132.5    True        True\n",
      "815         Mammal         Myotis ciliolabrum  Small-Footed Myotis, Western Small-Footed Bat,...           No status           100.500000                                 79.0                 254.000000                   129.0    True        True\n",
      "819         Mammal              Myotis leibii  Eastern Small-Footed Bat, Eastern Small-Footed...  Species of Concern            84.000000                                 49.0                 233.000000                   132.0    True        True\n",
      "820         Mammal           Myotis lucifugus              Little Brown Bat, Little Brown Myotis  Species of Concern            99.333333                                 58.0                 226.333333                   132.0    True        True\n",
      "821         Mammal           Myotis lucifugus  Little Brown Bat, Little Brown Myotis, Little ...  Species of Concern            99.333333                                 58.0                 226.333333                   132.0    True        True\n",
      "823         Mammal     Myotis septentrionalis           Northern Long-Eared Bat, Northern Myotis          Threatened            52.000000                                 34.0                 143.000000                    73.0    True        True\n",
      "824         Mammal             Myotis sodalis              Indiana Bat, Indiana Or Social Myotis          Endangered            27.000000                                 14.0                  68.000000                    36.0    True        True\n",
      "838         Mammal       Nycticeius humeralis                                        Evening Bat           No status           110.000000                                 84.0                 219.000000                   149.0    True        True\n",
      "855         Mammal      Parastrellus hesperus                                         Canyon Bat           No status            93.000000                                 81.0                 255.000000                   149.0    True        True\n",
      "912         Mammal      Tadarida brasiliensis                            Mexican Free-Tailed Bat           No status            75.000000                                 71.0                 251.000000                   177.0    True        True\n"
     ]
    }
   ],
   "source": [
    "conservationPerPark['bat specie'] = conservationPerPark.common_names.str.contains(r\"\\bBat\\b\", regex = True)\n",
    "print(conservationPerPark[conservationPerPark['bat specie']]);"
   ]
  },
  {
   "cell_type": "code",
   "execution_count": 317,
   "metadata": {},
   "outputs": [
    {
     "name": "stdout",
     "output_type": "stream",
     "text": [
      "park_name category     scientific_name                                       common_names conservation_status  Bryce National Park  Great Smoky Mountains National Park  Yellowstone National Park  Yosemite National Park  is_bat  bat specie  shrew specie\n",
      "735         Mammal  Blarina brevicauda  Northern Short Tailed Shrew, Northern Short-Ta...           No status                 77.0                                 86.0                      244.0                   185.0   False       False          True\n",
      "756         Mammal     Cryptotis parva                                        Least Shrew           No status                153.0                                 68.0                      277.0                   152.0   False       False          True\n",
      "881         Mammal      Sorex cinereus         Cinereus Shrew, Common Shrew, Masked Shrew           No status                117.0                                 66.0                      264.5                   121.5   False       False          True\n",
      "882         Mammal      Sorex cinereus                         Common Shrew, Masked Shrew           No status                117.0                                 66.0                      264.5                   121.5   False       False          True\n",
      "883         Mammal        Sorex dispar       Long-Tailed Or Rock Shrew, Long-Tailed Shrew           No status                123.0                                100.0                      285.0                   157.0   False       False          True\n",
      "884         Mammal        Sorex fumeus                                        Smoky Shrew           No status                101.0                                101.0                      266.0                   133.0   False       False          True\n",
      "885         Mammal          Sorex hoyi                  American Pygmy Shrew, Pygmy Shrew           No status                101.5                                 64.5                      286.5                   159.0   False       False          True\n",
      "886         Mammal          Sorex hoyi                                        Pygmy Shrew           No status                101.5                                 64.5                      286.5                   159.0   False       False          True\n",
      "887         Mammal  Sorex longirostris                                 Southeastern Shrew           No status                 77.0                                 42.0                      248.0                   151.0   False       False          True\n",
      "888         Mammal        Sorex lyelli                                  Mount Lyell Shrew           No status                104.0                                 54.0                      279.0                   115.0   False       False          True\n",
      "889         Mammal    Sorex monticolus                                        Dusky Shrew           No status                110.0                                 53.5                      260.0                   151.0   False       False          True\n",
      "890         Mammal    Sorex monticolus                                      Montane Shrew           No status                110.0                                 53.5                      260.0                   151.0   False       False          True\n",
      "891         Mammal         Sorex nanus            Dwarf Shrew, Rocky Mountain Dwarf Shrew           No status                 89.0                                 60.0                      216.0                   166.0   False       False          True\n",
      "892         Mammal     Sorex palustris  American Water Shrew, Northern Water Shrew, Wa...           No status                 84.0                                 84.5                      257.0                   153.5   False       False          True\n",
      "893         Mammal     Sorex palustris                                        Water Shrew           No status                 84.0                                 84.5                      257.0                   153.5   False       False          True\n",
      "894         Mammal       Sorex preblei                      Malheur Shrew, Preble's Shrew  Species of Concern                 71.0                                 59.0                      193.0                   140.0   False       False          True\n",
      "895         Mammal      Sorex tenellus                                         Inyo Shrew           No status                130.0                                 91.0                      232.0                   135.0   False       False          True\n",
      "896         Mammal   Sorex trowbridgii                                 Trowbridge's Shrew           No status                 80.0                                 73.0                      227.0                   140.0   False       False          True\n"
     ]
    }
   ],
   "source": [
    "conservationPerPark['shrew specie'] = conservationPerPark.common_names.str.contains(r\"\\Shrew\\b\", regex = True)\n",
    "print(conservationPerPark[conservationPerPark['shrew specie']]);"
   ]
  }
 ],
 "metadata": {
  "kernelspec": {
   "display_name": "base",
   "language": "python",
   "name": "python3"
  },
  "language_info": {
   "codemirror_mode": {
    "name": "ipython",
    "version": 3
   },
   "file_extension": ".py",
   "mimetype": "text/x-python",
   "name": "python",
   "nbconvert_exporter": "python",
   "pygments_lexer": "ipython3",
   "version": "3.9.13"
  }
 },
 "nbformat": 4,
 "nbformat_minor": 4
}
