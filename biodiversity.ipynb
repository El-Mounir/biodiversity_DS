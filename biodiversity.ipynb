{
 "cells": [
  {
   "cell_type": "code",
   "execution_count": 142,
   "metadata": {},
   "outputs": [],
   "source": [
    "import scipy.stats as stats\n",
    "import numpy as np\n",
    "import pandas as pd\n",
    "import seaborn as sns\n",
    "import matplotlib.pyplot as plt"
   ]
  },
  {
   "cell_type": "code",
   "execution_count": 143,
   "metadata": {},
   "outputs": [
    {
     "name": "stdout",
     "output_type": "stream",
     "text": [
      "             category                scientific_name                                       common_names conservation_status                            park_name  observations\n",
      "0              Mammal  Clethrionomys gapperi gapperi                           Gapper's Red-Backed Vole                 NaN                  Bryce National Park           130\n",
      "1              Mammal  Clethrionomys gapperi gapperi                           Gapper's Red-Backed Vole                 NaN            Yellowstone National Park           270\n",
      "2              Mammal  Clethrionomys gapperi gapperi                           Gapper's Red-Backed Vole                 NaN  Great Smoky Mountains National Park            98\n",
      "3              Mammal  Clethrionomys gapperi gapperi                           Gapper's Red-Backed Vole                 NaN               Yosemite National Park           117\n",
      "4              Mammal                      Bos bison                              American Bison, Bison                 NaN               Yosemite National Park           128\n",
      "...               ...                            ...                                                ...                 ...                                  ...           ...\n",
      "25627  Vascular Plant              Vitis californica            California Grape, California Wild Grape                 NaN            Yellowstone National Park           237\n",
      "25628  Vascular Plant            Tribulus terrestris  Bullhead, Caltrop, Goathead, Mexican Sandbur, ...                 NaN  Great Smoky Mountains National Park            50\n",
      "25629  Vascular Plant            Tribulus terrestris  Bullhead, Caltrop, Goathead, Mexican Sandbur, ...                 NaN            Yellowstone National Park           239\n",
      "25630  Vascular Plant            Tribulus terrestris  Bullhead, Caltrop, Goathead, Mexican Sandbur, ...                 NaN                  Bryce National Park           111\n",
      "25631  Vascular Plant            Tribulus terrestris  Bullhead, Caltrop, Goathead, Mexican Sandbur, ...                 NaN               Yosemite National Park           156\n",
      "\n",
      "[25632 rows x 6 columns]\n"
     ]
    }
   ],
   "source": [
    "species_df = pd.read_csv('species_info.csv');\n",
    "observ_df = pd.read_csv('observations.csv');\n",
    "\n",
    "#pd.set_option('display.max_columns', None);\n",
    "pd.set_option('display.expand_frame_repr', False);\n",
    "\n",
    "biodiversity_df = pd.merge(species_df, observ_df, on = 'scientific_name', how = 'outer');\n",
    "print(biodiversity_df);\n"
   ]
  },
  {
   "cell_type": "code",
   "execution_count": 144,
   "metadata": {},
   "outputs": [
    {
     "name": "stdout",
     "output_type": "stream",
     "text": [
      "Index(['category', 'scientific_name', 'common_names', 'conservation_status',\n",
      "       'park_name', 'observations'],\n",
      "      dtype='object')\n",
      "['Mammal' 'Bird' 'Reptile' 'Amphibian' 'Fish' 'Vascular Plant'\n",
      " 'Nonvascular Plant']\n"
     ]
    }
   ],
   "source": [
    "print(biodiversity_df.columns);\n",
    "print(biodiversity_df.category.unique());"
   ]
  },
  {
   "cell_type": "code",
   "execution_count": 145,
   "metadata": {},
   "outputs": [
    {
     "name": "stdout",
     "output_type": "stream",
     "text": [
      "category               object\n",
      "scientific_name        object\n",
      "common_names           object\n",
      "conservation_status    object\n",
      "park_name              object\n",
      "observations            int64\n",
      "dtype: object\n"
     ]
    }
   ],
   "source": [
    "print(biodiversity_df.dtypes);"
   ]
  },
  {
   "cell_type": "code",
   "execution_count": 146,
   "metadata": {},
   "outputs": [
    {
     "name": "stdout",
     "output_type": "stream",
     "text": [
      "category                   0\n",
      "scientific_name            0\n",
      "common_names               0\n",
      "conservation_status    24752\n",
      "park_name                  0\n",
      "observations               0\n",
      "dtype: int64\n"
     ]
    }
   ],
   "source": [
    "print(biodiversity_df.isna().sum());"
   ]
  },
  {
   "cell_type": "code",
   "execution_count": 147,
   "metadata": {},
   "outputs": [
    {
     "name": "stdout",
     "output_type": "stream",
     "text": [
      "False    25601\n",
      "True        31\n",
      "dtype: int64\n"
     ]
    }
   ],
   "source": [
    "duplicates = biodiversity_df.duplicated();\n",
    "print(duplicates.value_counts());"
   ]
  },
  {
   "cell_type": "code",
   "execution_count": 148,
   "metadata": {},
   "outputs": [
    {
     "name": "stdout",
     "output_type": "stream",
     "text": [
      "False    25601\n",
      "dtype: int64\n"
     ]
    }
   ],
   "source": [
    "biodiversity_df = biodiversity_df.drop_duplicates();\n",
    "duplicates_bio = biodiversity_df.duplicated();\n",
    "print(duplicates_bio.value_counts());\n"
   ]
  },
  {
   "cell_type": "code",
   "execution_count": 149,
   "metadata": {},
   "outputs": [
    {
     "name": "stdout",
     "output_type": "stream",
     "text": [
      "             category                scientific_name                                       common_names conservation_status                            park_name  observations\n",
      "0              Mammal  Clethrionomys gapperi gapperi                           Gapper's Red-Backed Vole                 NaN                  Bryce National Park           130\n",
      "1              Mammal  Clethrionomys gapperi gapperi                           Gapper's Red-Backed Vole                 NaN            Yellowstone National Park           270\n",
      "2              Mammal  Clethrionomys gapperi gapperi                           Gapper's Red-Backed Vole                 NaN  Great Smoky Mountains National Park            98\n",
      "3              Mammal  Clethrionomys gapperi gapperi                           Gapper's Red-Backed Vole                 NaN               Yosemite National Park           117\n",
      "4              Mammal                      Bos bison                              American Bison, Bison                 NaN               Yosemite National Park           128\n",
      "...               ...                            ...                                                ...                 ...                                  ...           ...\n",
      "25596  Vascular Plant              Vitis californica            California Grape, California Wild Grape                 NaN            Yellowstone National Park           237\n",
      "25597  Vascular Plant            Tribulus terrestris  Bullhead, Caltrop, Goathead, Mexican Sandbur, ...                 NaN  Great Smoky Mountains National Park            50\n",
      "25598  Vascular Plant            Tribulus terrestris  Bullhead, Caltrop, Goathead, Mexican Sandbur, ...                 NaN            Yellowstone National Park           239\n",
      "25599  Vascular Plant            Tribulus terrestris  Bullhead, Caltrop, Goathead, Mexican Sandbur, ...                 NaN                  Bryce National Park           111\n",
      "25600  Vascular Plant            Tribulus terrestris  Bullhead, Caltrop, Goathead, Mexican Sandbur, ...                 NaN               Yosemite National Park           156\n",
      "\n",
      "[25601 rows x 6 columns]\n"
     ]
    }
   ],
   "source": [
    "biodiversity_df = biodiversity_df.reset_index(drop=True);\n",
    "print(biodiversity_df);"
   ]
  },
  {
   "cell_type": "code",
   "execution_count": 152,
   "metadata": {},
   "outputs": [
    {
     "name": "stdout",
     "output_type": "stream",
     "text": [
      "  category                scientific_name                                       common_names conservation_status                            park_name  observations  Bryce National Park  Yellowstone National Park  Great Smoky Mountains National Park  Yosemite National Park\n",
      "0   Mammal  Clethrionomys gapperi gapperi                           Gapper's Red-Backed Vole                 NaN                  Bryce National Park           130                  130                          0                                    0                       0\n",
      "1   Mammal  Clethrionomys gapperi gapperi                           Gapper's Red-Backed Vole                 NaN            Yellowstone National Park           270                    0                        270                                    0                       0\n",
      "2   Mammal  Clethrionomys gapperi gapperi                           Gapper's Red-Backed Vole                 NaN  Great Smoky Mountains National Park            98                    0                          0                                   98                       0\n",
      "3   Mammal  Clethrionomys gapperi gapperi                           Gapper's Red-Backed Vole                 NaN               Yosemite National Park           117                    0                          0                                    0                     117\n",
      "4   Mammal                      Bos bison                              American Bison, Bison                 NaN               Yosemite National Park           128                    0                          0                                    0                     128\n",
      "5   Mammal                      Bos bison                              American Bison, Bison                 NaN            Yellowstone National Park           269                    0                        269                                    0                       0\n",
      "6   Mammal                      Bos bison                              American Bison, Bison                 NaN                  Bryce National Park            68                   68                          0                                    0                       0\n",
      "7   Mammal                      Bos bison                              American Bison, Bison                 NaN  Great Smoky Mountains National Park            77                    0                          0                                   77                       0\n",
      "8   Mammal                     Bos taurus  Aurochs, Aurochs, Domestic Cattle (Feral), Dom...                 NaN                  Bryce National Park            99                   99                          0                                    0                       0\n",
      "9   Mammal                     Bos taurus  Aurochs, Aurochs, Domestic Cattle (Feral), Dom...                 NaN               Yosemite National Park           124                    0                          0                                    0                     124\n",
      "category                               object\n",
      "scientific_name                        object\n",
      "common_names                           object\n",
      "conservation_status                    object\n",
      "park_name                              object\n",
      "observations                            int64\n",
      "Bryce National Park                     int64\n",
      "Yellowstone National Park               int64\n",
      "Great Smoky Mountains National Park     int64\n",
      "Yosemite National Park                  int64\n",
      "dtype: object\n"
     ]
    }
   ],
   "source": [
    "unique_park_name_list = list(biodiversity_df.park_name.unique());\n",
    "#print(unique_park_name_list)\n",
    "unique_sc_name_list = list(biodiversity_df.scientific_name.unique());\n",
    "biodiversity_list = list(range(0,len(biodiversity_df)));\n",
    "index_loc = 0;\n",
    "\n",
    "def create_park_columns(p_name):\n",
    "    biodiversity_df[p_name] = biodiversity_df.apply(lambda row: \\\n",
    "                                                    row['observations']\n",
    "                                                    if row['park_name'] == p_name\n",
    "                                                    else 0,\n",
    "                                                    axis = 1)\n",
    "    return\n",
    "\n",
    "for p_name in unique_park_name_list:\n",
    "    create_park_columns(p_name);\n",
    "\n",
    "print(biodiversity_df.head(10));\n",
    "print(biodiversity_df.dtypes);"
   ]
  },
  {
   "cell_type": "code",
   "execution_count": 151,
   "metadata": {},
   "outputs": [
    {
     "name": "stderr",
     "output_type": "stream",
     "text": [
      "c:\\Users\\melbaabo\\anaconda3\\lib\\site-packages\\pandas\\core\\reshape\\merge.py:916: FutureWarning: In a future version, the Index constructor will not infer numeric dtypes when passed object-dtype sequences (matching Series behavior)\n",
      "  key_col = Index(lvals).where(~mask_left, rvals)\n",
      "c:\\Users\\melbaabo\\anaconda3\\lib\\site-packages\\pandas\\core\\reshape\\merge.py:916: FutureWarning: In a future version, the Index constructor will not infer numeric dtypes when passed object-dtype sequences (matching Series behavior)\n",
      "  key_col = Index(lvals).where(~mask_left, rvals)\n",
      "c:\\Users\\melbaabo\\anaconda3\\lib\\site-packages\\pandas\\core\\reshape\\merge.py:916: FutureWarning: In a future version, the Index constructor will not infer numeric dtypes when passed object-dtype sequences (matching Series behavior)\n",
      "  key_col = Index(lvals).where(~mask_left, rvals)\n",
      "c:\\Users\\melbaabo\\anaconda3\\lib\\site-packages\\pandas\\core\\reshape\\merge.py:916: FutureWarning: In a future version, the Index constructor will not infer numeric dtypes when passed object-dtype sequences (matching Series behavior)\n",
      "  key_col = Index(lvals).where(~mask_left, rvals)\n",
      "c:\\Users\\melbaabo\\anaconda3\\lib\\site-packages\\pandas\\core\\reshape\\merge.py:916: FutureWarning: In a future version, the Index constructor will not infer numeric dtypes when passed object-dtype sequences (matching Series behavior)\n",
      "  key_col = Index(lvals).where(~mask_left, rvals)\n",
      "c:\\Users\\melbaabo\\anaconda3\\lib\\site-packages\\pandas\\core\\reshape\\merge.py:916: FutureWarning: In a future version, the Index constructor will not infer numeric dtypes when passed object-dtype sequences (matching Series behavior)\n",
      "  key_col = Index(lvals).where(~mask_left, rvals)\n",
      "c:\\Users\\melbaabo\\anaconda3\\lib\\site-packages\\pandas\\core\\reshape\\merge.py:916: FutureWarning: In a future version, the Index constructor will not infer numeric dtypes when passed object-dtype sequences (matching Series behavior)\n",
      "  key_col = Index(lvals).where(~mask_left, rvals)\n"
     ]
    },
    {
     "name": "stdout",
     "output_type": "stream",
     "text": [
      "  category                scientific_name                                       common_names conservation_status                  park_name  observations  Bryce National Park  Yellowstone National Park  Great Smoky Mountains National Park  Yosemite National Park\n",
      "0   Mammal  Clethrionomys gapperi gapperi                           Gapper's Red-Backed Vole                 NaN        Bryce National Park           130                  130                        270                                   98                     117\n",
      "1   Mammal                      Bos bison                              American Bison, Bison                 NaN     Yosemite National Park           128                   68                        269                                   77                     128\n",
      "2   Mammal                     Bos taurus  Aurochs, Aurochs, Domestic Cattle (Feral), Dom...                 NaN        Bryce National Park            99                   99                        235                                   56                     124\n",
      "3   Mammal                     Ovis aries  Domestic Sheep, Mouflon, Red Sheep, Sheep (Feral)                 NaN     Yosemite National Park           126                  119                        221                                   76                     126\n",
      "4   Mammal                 Cervus elaphus                                      Wapiti Or Elk                 NaN  Yellowstone National Park           225                  366                        990                                  322                     758\n"
     ]
    }
   ],
   "source": [
    "def dataframes_per_scnames(scname):\n",
    "    biodiversity_dataframe = biodiversity_df[biodiversity_df[\"scientific_name\"] == scname];\n",
    "    new_biodiversity_dataframe = biodiversity_dataframe.copy();\n",
    "    for park in unique_park_name_list:\n",
    "        new_biodiversity_dataframe[park] = np.sum(new_biodiversity_dataframe[park]);\n",
    "    new_biodiversity_dataframe = new_biodiversity_dataframe.drop_duplicates(subset = new_biodiversity_dataframe.columns[0:2]);\n",
    "    #print(new_biodiversity_dataframe);\n",
    "    return new_biodiversity_dataframe\n",
    "\n",
    "for s_name in unique_sc_name_list:\n",
    "    if s_name == biodiversity_df[\"scientific_name\"][0]:\n",
    "        new_biodiversity = dataframes_per_scnames(s_name);\n",
    "    else:\n",
    "        new_biodiversity = pd.merge(new_biodiversity, dataframes_per_scnames(s_name), how = 'outer');\n",
    "\n",
    "print(new_biodiversity.head());"
   ]
  },
  {
   "cell_type": "code",
   "execution_count": 153,
   "metadata": {},
   "outputs": [
    {
     "name": "stdout",
     "output_type": "stream",
     "text": [
      "category                                  0\n",
      "scientific_name                           0\n",
      "common_names                              0\n",
      "conservation_status                    5363\n",
      "park_name                                 0\n",
      "observations                              0\n",
      "Bryce National Park                       0\n",
      "Yellowstone National Park                 0\n",
      "Great Smoky Mountains National Park       0\n",
      "Yosemite National Park                    0\n",
      "dtype: int64\n"
     ]
    }
   ],
   "source": [
    "print(new_biodiversity.isna().sum());"
   ]
  },
  {
   "cell_type": "code",
   "execution_count": 154,
   "metadata": {},
   "outputs": [
    {
     "name": "stdout",
     "output_type": "stream",
     "text": [
      "  category                scientific_name                                       common_names conservation_status  Bryce National Park  Yellowstone National Park  Great Smoky Mountains National Park  Yosemite National Park\n",
      "0   Mammal  Clethrionomys gapperi gapperi                           Gapper's Red-Backed Vole                 NaN                  130                        270                                   98                     117\n",
      "1   Mammal                      Bos bison                              American Bison, Bison                 NaN                   68                        269                                   77                     128\n",
      "2   Mammal                     Bos taurus  Aurochs, Aurochs, Domestic Cattle (Feral), Dom...                 NaN                   99                        235                                   56                     124\n",
      "3   Mammal                     Ovis aries  Domestic Sheep, Mouflon, Red Sheep, Sheep (Feral)                 NaN                  119                        221                                   76                     126\n",
      "4   Mammal                 Cervus elaphus                                      Wapiti Or Elk                 NaN                  366                        990                                  322                     758\n"
     ]
    }
   ],
   "source": [
    "new_biodiversity = new_biodiversity.drop(columns = ['park_name','observations']);\n",
    "print(new_biodiversity.head());"
   ]
  },
  {
   "cell_type": "code",
   "execution_count": null,
   "metadata": {},
   "outputs": [],
   "source": []
  }
 ],
 "metadata": {
  "kernelspec": {
   "display_name": "base",
   "language": "python",
   "name": "python3"
  },
  "language_info": {
   "codemirror_mode": {
    "name": "ipython",
    "version": 3
   },
   "file_extension": ".py",
   "mimetype": "text/x-python",
   "name": "python",
   "nbconvert_exporter": "python",
   "pygments_lexer": "ipython3",
   "version": "3.9.13"
  }
 },
 "nbformat": 4,
 "nbformat_minor": 4
}
