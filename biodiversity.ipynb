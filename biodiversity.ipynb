{
 "cells": [
  {
   "cell_type": "code",
   "execution_count": 329,
   "metadata": {},
   "outputs": [],
   "source": [
    "import scipy.stats as stats\n",
    "import numpy as np\n",
    "import pandas as pd\n",
    "import seaborn as sns\n",
    "import matplotlib.pyplot as plt"
   ]
  },
  {
   "cell_type": "code",
   "execution_count": 330,
   "metadata": {},
   "outputs": [
    {
     "name": "stdout",
     "output_type": "stream",
     "text": [
      "             category                scientific_name                                       common_names conservation_status                            park_name  observations\n",
      "0              Mammal  Clethrionomys gapperi gapperi                           Gapper's Red-Backed Vole                 NaN                  Bryce National Park           130\n",
      "1              Mammal  Clethrionomys gapperi gapperi                           Gapper's Red-Backed Vole                 NaN            Yellowstone National Park           270\n",
      "2              Mammal  Clethrionomys gapperi gapperi                           Gapper's Red-Backed Vole                 NaN  Great Smoky Mountains National Park            98\n",
      "3              Mammal  Clethrionomys gapperi gapperi                           Gapper's Red-Backed Vole                 NaN               Yosemite National Park           117\n",
      "4              Mammal                      Bos bison                              American Bison, Bison                 NaN               Yosemite National Park           128\n",
      "...               ...                            ...                                                ...                 ...                                  ...           ...\n",
      "25627  Vascular Plant              Vitis californica            California Grape, California Wild Grape                 NaN            Yellowstone National Park           237\n",
      "25628  Vascular Plant            Tribulus terrestris  Bullhead, Caltrop, Goathead, Mexican Sandbur, ...                 NaN  Great Smoky Mountains National Park            50\n",
      "25629  Vascular Plant            Tribulus terrestris  Bullhead, Caltrop, Goathead, Mexican Sandbur, ...                 NaN            Yellowstone National Park           239\n",
      "25630  Vascular Plant            Tribulus terrestris  Bullhead, Caltrop, Goathead, Mexican Sandbur, ...                 NaN                  Bryce National Park           111\n",
      "25631  Vascular Plant            Tribulus terrestris  Bullhead, Caltrop, Goathead, Mexican Sandbur, ...                 NaN               Yosemite National Park           156\n",
      "\n",
      "[25632 rows x 6 columns]\n"
     ]
    }
   ],
   "source": [
    "species_df = pd.read_csv('species_info.csv');\n",
    "observ_df = pd.read_csv('observations.csv');\n",
    "\n",
    "pd.set_option('display.expand_frame_repr', False);\n",
    "\n",
    "biodiversity_df = pd.merge(species_df, observ_df, on = 'scientific_name', how = 'outer');\n",
    "print(biodiversity_df);\n"
   ]
  },
  {
   "cell_type": "code",
   "execution_count": 331,
   "metadata": {},
   "outputs": [
    {
     "name": "stdout",
     "output_type": "stream",
     "text": [
      "    category scientific_name     common_names conservation_status                            park_name  observations\n",
      "68    Mammal     Canis lupus        Gray Wolf          Endangered               Yosemite National Park            35\n",
      "69    Mammal     Canis lupus        Gray Wolf          Endangered                  Bryce National Park            27\n",
      "70    Mammal     Canis lupus        Gray Wolf          Endangered                  Bryce National Park            29\n",
      "71    Mammal     Canis lupus        Gray Wolf          Endangered                  Bryce National Park            74\n",
      "72    Mammal     Canis lupus        Gray Wolf          Endangered  Great Smoky Mountains National Park            15\n",
      "73    Mammal     Canis lupus        Gray Wolf          Endangered            Yellowstone National Park            60\n",
      "74    Mammal     Canis lupus        Gray Wolf          Endangered            Yellowstone National Park            67\n",
      "75    Mammal     Canis lupus        Gray Wolf          Endangered            Yellowstone National Park           203\n",
      "76    Mammal     Canis lupus        Gray Wolf          Endangered  Great Smoky Mountains National Park            14\n",
      "77    Mammal     Canis lupus        Gray Wolf          Endangered               Yosemite National Park           117\n",
      "78    Mammal     Canis lupus        Gray Wolf          Endangered               Yosemite National Park            44\n",
      "79    Mammal     Canis lupus        Gray Wolf          Endangered  Great Smoky Mountains National Park            30\n",
      "80    Mammal     Canis lupus  Gray Wolf, Wolf         In Recovery               Yosemite National Park            35\n",
      "81    Mammal     Canis lupus  Gray Wolf, Wolf         In Recovery                  Bryce National Park            27\n",
      "82    Mammal     Canis lupus  Gray Wolf, Wolf         In Recovery                  Bryce National Park            29\n",
      "83    Mammal     Canis lupus  Gray Wolf, Wolf         In Recovery                  Bryce National Park            74\n",
      "84    Mammal     Canis lupus  Gray Wolf, Wolf         In Recovery  Great Smoky Mountains National Park            15\n",
      "85    Mammal     Canis lupus  Gray Wolf, Wolf         In Recovery            Yellowstone National Park            60\n",
      "86    Mammal     Canis lupus  Gray Wolf, Wolf         In Recovery            Yellowstone National Park            67\n",
      "87    Mammal     Canis lupus  Gray Wolf, Wolf         In Recovery            Yellowstone National Park           203\n",
      "88    Mammal     Canis lupus  Gray Wolf, Wolf         In Recovery  Great Smoky Mountains National Park            14\n",
      "89    Mammal     Canis lupus  Gray Wolf, Wolf         In Recovery               Yosemite National Park           117\n",
      "90    Mammal     Canis lupus  Gray Wolf, Wolf         In Recovery               Yosemite National Park            44\n",
      "91    Mammal     Canis lupus  Gray Wolf, Wolf         In Recovery  Great Smoky Mountains National Park            30\n",
      "92    Mammal     Canis lupus  Gray Wolf, Wolf          Endangered               Yosemite National Park            35\n",
      "93    Mammal     Canis lupus  Gray Wolf, Wolf          Endangered                  Bryce National Park            27\n",
      "94    Mammal     Canis lupus  Gray Wolf, Wolf          Endangered                  Bryce National Park            29\n",
      "95    Mammal     Canis lupus  Gray Wolf, Wolf          Endangered                  Bryce National Park            74\n",
      "96    Mammal     Canis lupus  Gray Wolf, Wolf          Endangered  Great Smoky Mountains National Park            15\n",
      "97    Mammal     Canis lupus  Gray Wolf, Wolf          Endangered            Yellowstone National Park            60\n",
      "98    Mammal     Canis lupus  Gray Wolf, Wolf          Endangered            Yellowstone National Park            67\n",
      "99    Mammal     Canis lupus  Gray Wolf, Wolf          Endangered            Yellowstone National Park           203\n",
      "100   Mammal     Canis lupus  Gray Wolf, Wolf          Endangered  Great Smoky Mountains National Park            14\n",
      "101   Mammal     Canis lupus  Gray Wolf, Wolf          Endangered               Yosemite National Park           117\n",
      "102   Mammal     Canis lupus  Gray Wolf, Wolf          Endangered               Yosemite National Park            44\n",
      "103   Mammal     Canis lupus  Gray Wolf, Wolf          Endangered  Great Smoky Mountains National Park            30\n"
     ]
    }
   ],
   "source": [
    "#print(biodiversity_df.columns);\n",
    "#print(biodiversity_df.category.unique());\n",
    "print(biodiversity_df[biodiversity_df['scientific_name'] == 'Canis lupus']);"
   ]
  },
  {
   "cell_type": "code",
   "execution_count": 332,
   "metadata": {},
   "outputs": [
    {
     "name": "stdout",
     "output_type": "stream",
     "text": [
      "category               object\n",
      "scientific_name        object\n",
      "common_names           object\n",
      "conservation_status    object\n",
      "park_name              object\n",
      "observations            int64\n",
      "dtype: object\n"
     ]
    }
   ],
   "source": [
    "print(biodiversity_df.dtypes);"
   ]
  },
  {
   "cell_type": "code",
   "execution_count": 333,
   "metadata": {},
   "outputs": [
    {
     "name": "stdout",
     "output_type": "stream",
     "text": [
      "category                   0\n",
      "scientific_name            0\n",
      "common_names               0\n",
      "conservation_status    24752\n",
      "park_name                  0\n",
      "observations               0\n",
      "dtype: int64\n"
     ]
    }
   ],
   "source": [
    "print(biodiversity_df.isna().sum());"
   ]
  },
  {
   "cell_type": "code",
   "execution_count": 334,
   "metadata": {},
   "outputs": [
    {
     "name": "stdout",
     "output_type": "stream",
     "text": [
      "False    25601\n",
      "True        31\n",
      "dtype: int64\n"
     ]
    }
   ],
   "source": [
    "duplicates = biodiversity_df.duplicated();\n",
    "print(duplicates.value_counts());"
   ]
  },
  {
   "cell_type": "code",
   "execution_count": 335,
   "metadata": {},
   "outputs": [
    {
     "name": "stdout",
     "output_type": "stream",
     "text": [
      "False    25601\n",
      "dtype: int64\n"
     ]
    }
   ],
   "source": [
    "biodiversity_df = biodiversity_df.drop_duplicates();\n",
    "duplicates_bio = biodiversity_df.duplicated();\n",
    "print(duplicates_bio.value_counts());\n"
   ]
  },
  {
   "cell_type": "code",
   "execution_count": 336,
   "metadata": {},
   "outputs": [
    {
     "name": "stdout",
     "output_type": "stream",
     "text": [
      "             category                scientific_name                                       common_names conservation_status                            park_name  observations\n",
      "0              Mammal  Clethrionomys gapperi gapperi                           Gapper's Red-Backed Vole                 NaN                  Bryce National Park           130\n",
      "1              Mammal  Clethrionomys gapperi gapperi                           Gapper's Red-Backed Vole                 NaN            Yellowstone National Park           270\n",
      "2              Mammal  Clethrionomys gapperi gapperi                           Gapper's Red-Backed Vole                 NaN  Great Smoky Mountains National Park            98\n",
      "3              Mammal  Clethrionomys gapperi gapperi                           Gapper's Red-Backed Vole                 NaN               Yosemite National Park           117\n",
      "4              Mammal                      Bos bison                              American Bison, Bison                 NaN               Yosemite National Park           128\n",
      "...               ...                            ...                                                ...                 ...                                  ...           ...\n",
      "25596  Vascular Plant              Vitis californica            California Grape, California Wild Grape                 NaN            Yellowstone National Park           237\n",
      "25597  Vascular Plant            Tribulus terrestris  Bullhead, Caltrop, Goathead, Mexican Sandbur, ...                 NaN  Great Smoky Mountains National Park            50\n",
      "25598  Vascular Plant            Tribulus terrestris  Bullhead, Caltrop, Goathead, Mexican Sandbur, ...                 NaN            Yellowstone National Park           239\n",
      "25599  Vascular Plant            Tribulus terrestris  Bullhead, Caltrop, Goathead, Mexican Sandbur, ...                 NaN                  Bryce National Park           111\n",
      "25600  Vascular Plant            Tribulus terrestris  Bullhead, Caltrop, Goathead, Mexican Sandbur, ...                 NaN               Yosemite National Park           156\n",
      "\n",
      "[25601 rows x 6 columns]\n"
     ]
    }
   ],
   "source": [
    "biodiversity_df = biodiversity_df.reset_index(drop=True);\n",
    "print(biodiversity_df);"
   ]
  },
  {
   "cell_type": "code",
   "execution_count": 337,
   "metadata": {},
   "outputs": [
    {
     "name": "stdout",
     "output_type": "stream",
     "text": [
      "  category                scientific_name                                       common_names conservation_status                            park_name  observations  Bryce National Park  Yellowstone National Park  Great Smoky Mountains National Park  Yosemite National Park\n",
      "0   Mammal  Clethrionomys gapperi gapperi                           Gapper's Red-Backed Vole                 NaN                  Bryce National Park           130                  130                          0                                    0                       0\n",
      "1   Mammal  Clethrionomys gapperi gapperi                           Gapper's Red-Backed Vole                 NaN            Yellowstone National Park           270                    0                        270                                    0                       0\n",
      "2   Mammal  Clethrionomys gapperi gapperi                           Gapper's Red-Backed Vole                 NaN  Great Smoky Mountains National Park            98                    0                          0                                   98                       0\n",
      "3   Mammal  Clethrionomys gapperi gapperi                           Gapper's Red-Backed Vole                 NaN               Yosemite National Park           117                    0                          0                                    0                     117\n",
      "4   Mammal                      Bos bison                              American Bison, Bison                 NaN               Yosemite National Park           128                    0                          0                                    0                     128\n",
      "5   Mammal                      Bos bison                              American Bison, Bison                 NaN            Yellowstone National Park           269                    0                        269                                    0                       0\n",
      "6   Mammal                      Bos bison                              American Bison, Bison                 NaN                  Bryce National Park            68                   68                          0                                    0                       0\n",
      "7   Mammal                      Bos bison                              American Bison, Bison                 NaN  Great Smoky Mountains National Park            77                    0                          0                                   77                       0\n",
      "8   Mammal                     Bos taurus  Aurochs, Aurochs, Domestic Cattle (Feral), Dom...                 NaN                  Bryce National Park            99                   99                          0                                    0                       0\n",
      "9   Mammal                     Bos taurus  Aurochs, Aurochs, Domestic Cattle (Feral), Dom...                 NaN               Yosemite National Park           124                    0                          0                                    0                     124\n",
      "category                               object\n",
      "scientific_name                        object\n",
      "common_names                           object\n",
      "conservation_status                    object\n",
      "park_name                              object\n",
      "observations                            int64\n",
      "Bryce National Park                     int64\n",
      "Yellowstone National Park               int64\n",
      "Great Smoky Mountains National Park     int64\n",
      "Yosemite National Park                  int64\n",
      "dtype: object\n"
     ]
    }
   ],
   "source": [
    "unique_park_name_list = list(biodiversity_df.park_name.unique());\n",
    "unique_sc_name_list = list(biodiversity_df.scientific_name.unique());\n",
    "\n",
    "def create_park_columns(p_name):\n",
    "    biodiversity_df[p_name] = biodiversity_df.apply(lambda row: \\\n",
    "                                                    row['observations']\n",
    "                                                    if row['park_name'] == p_name\n",
    "                                                    else 0,\n",
    "                                                    axis = 1)\n",
    "    return\n",
    "\n",
    "for p_name in unique_park_name_list:\n",
    "    create_park_columns(p_name);\n",
    "\n",
    "print(biodiversity_df.head(10));\n",
    "print(biodiversity_df.dtypes);"
   ]
  },
  {
   "cell_type": "code",
   "execution_count": 338,
   "metadata": {},
   "outputs": [
    {
     "name": "stderr",
     "output_type": "stream",
     "text": [
      "c:\\Users\\melbaabo\\anaconda3\\lib\\site-packages\\pandas\\core\\reshape\\merge.py:916: FutureWarning: In a future version, the Index constructor will not infer numeric dtypes when passed object-dtype sequences (matching Series behavior)\n",
      "  key_col = Index(lvals).where(~mask_left, rvals)\n",
      "c:\\Users\\melbaabo\\anaconda3\\lib\\site-packages\\pandas\\core\\reshape\\merge.py:916: FutureWarning: In a future version, the Index constructor will not infer numeric dtypes when passed object-dtype sequences (matching Series behavior)\n",
      "  key_col = Index(lvals).where(~mask_left, rvals)\n",
      "c:\\Users\\melbaabo\\anaconda3\\lib\\site-packages\\pandas\\core\\reshape\\merge.py:916: FutureWarning: In a future version, the Index constructor will not infer numeric dtypes when passed object-dtype sequences (matching Series behavior)\n",
      "  key_col = Index(lvals).where(~mask_left, rvals)\n",
      "c:\\Users\\melbaabo\\anaconda3\\lib\\site-packages\\pandas\\core\\reshape\\merge.py:916: FutureWarning: In a future version, the Index constructor will not infer numeric dtypes when passed object-dtype sequences (matching Series behavior)\n",
      "  key_col = Index(lvals).where(~mask_left, rvals)\n",
      "c:\\Users\\melbaabo\\anaconda3\\lib\\site-packages\\pandas\\core\\reshape\\merge.py:916: FutureWarning: In a future version, the Index constructor will not infer numeric dtypes when passed object-dtype sequences (matching Series behavior)\n",
      "  key_col = Index(lvals).where(~mask_left, rvals)\n",
      "c:\\Users\\melbaabo\\anaconda3\\lib\\site-packages\\pandas\\core\\reshape\\merge.py:916: FutureWarning: In a future version, the Index constructor will not infer numeric dtypes when passed object-dtype sequences (matching Series behavior)\n",
      "  key_col = Index(lvals).where(~mask_left, rvals)\n",
      "c:\\Users\\melbaabo\\anaconda3\\lib\\site-packages\\pandas\\core\\reshape\\merge.py:916: FutureWarning: In a future version, the Index constructor will not infer numeric dtypes when passed object-dtype sequences (matching Series behavior)\n",
      "  key_col = Index(lvals).where(~mask_left, rvals)\n"
     ]
    },
    {
     "name": "stdout",
     "output_type": "stream",
     "text": [
      "  category                scientific_name                                       common_names conservation_status                  park_name  observations  Bryce National Park  Yellowstone National Park  Great Smoky Mountains National Park  Yosemite National Park\n",
      "0   Mammal  Clethrionomys gapperi gapperi                           Gapper's Red-Backed Vole                 NaN        Bryce National Park           130                  130                        270                                   98                     117\n",
      "1   Mammal                      Bos bison                              American Bison, Bison                 NaN     Yosemite National Park           128                   68                        269                                   77                     128\n",
      "2   Mammal                     Bos taurus  Aurochs, Aurochs, Domestic Cattle (Feral), Dom...                 NaN        Bryce National Park            99                   99                        235                                   56                     124\n",
      "3   Mammal                     Ovis aries  Domestic Sheep, Mouflon, Red Sheep, Sheep (Feral)                 NaN     Yosemite National Park           126                  119                        221                                   76                     126\n",
      "4   Mammal                 Cervus elaphus                                      Wapiti Or Elk                 NaN  Yellowstone National Park           225                  366                        990                                  322                     758\n"
     ]
    }
   ],
   "source": [
    "def dataframes_per_scnames(scname):\n",
    "    biodiversity_dataframe = biodiversity_df[biodiversity_df[\"scientific_name\"] == scname];\n",
    "    new_biodiversity_dataframe = biodiversity_dataframe.copy();\n",
    "    for park in unique_park_name_list:\n",
    "        new_biodiversity_dataframe[park] = np.sum(new_biodiversity_dataframe[park]);\n",
    "    new_biodiversity_dataframe = new_biodiversity_dataframe.drop_duplicates(subset = new_biodiversity_dataframe.columns[0:3]);\n",
    "    return new_biodiversity_dataframe\n",
    "\n",
    "for s_name in unique_sc_name_list:\n",
    "    if s_name == biodiversity_df[\"scientific_name\"][0]:\n",
    "        new_biodiversity = dataframes_per_scnames(s_name);\n",
    "    else:\n",
    "        new_biodiversity = pd.merge(new_biodiversity, dataframes_per_scnames(s_name), how = 'outer');\n",
    "\n",
    "print(new_biodiversity.head());"
   ]
  },
  {
   "cell_type": "code",
   "execution_count": 339,
   "metadata": {},
   "outputs": [
    {
     "name": "stdout",
     "output_type": "stream",
     "text": [
      "category                                  0\n",
      "scientific_name                           0\n",
      "common_names                              0\n",
      "conservation_status                    5633\n",
      "park_name                                 0\n",
      "observations                              0\n",
      "Bryce National Park                       0\n",
      "Yellowstone National Park                 0\n",
      "Great Smoky Mountains National Park       0\n",
      "Yosemite National Park                    0\n",
      "dtype: int64\n"
     ]
    }
   ],
   "source": [
    "print(new_biodiversity.isna().sum());"
   ]
  },
  {
   "cell_type": "code",
   "execution_count": 340,
   "metadata": {},
   "outputs": [
    {
     "name": "stdout",
     "output_type": "stream",
     "text": [
      "5822\n"
     ]
    }
   ],
   "source": [
    "new_biodiversity = new_biodiversity.drop(columns = ['park_name','observations']);\n",
    "print(len(new_biodiversity));"
   ]
  },
  {
   "cell_type": "code",
   "execution_count": 341,
   "metadata": {},
   "outputs": [
    {
     "name": "stdout",
     "output_type": "stream",
     "text": [
      "   category                scientific_name                                       common_names conservation_status  Bryce National Park  Yellowstone National Park  Great Smoky Mountains National Park  Yosemite National Park\n",
      "0    Mammal  Clethrionomys gapperi gapperi                           Gapper's Red-Backed Vole                 NaN                  130                        270                                   98                     117\n",
      "1    Mammal                      Bos bison                              American Bison, Bison                 NaN                   68                        269                                   77                     128\n",
      "2    Mammal                     Bos taurus  Aurochs, Aurochs, Domestic Cattle (Feral), Dom...                 NaN                   99                        235                                   56                     124\n",
      "3    Mammal                     Ovis aries  Domestic Sheep, Mouflon, Red Sheep, Sheep (Feral)                 NaN                  119                        221                                   76                     126\n",
      "4    Mammal                 Cervus elaphus                                      Wapiti Or Elk                 NaN                  366                        990                                  322                     758\n",
      "5    Mammal                 Cervus elaphus                                 Rocky Mountain Elk                 NaN                  366                        990                                  322                     758\n",
      "6    Mammal         Odocoileus virginianus                                  White-Tailed Deer                 NaN                  366                        968                                  218                     570\n",
      "7    Mammal         Odocoileus virginianus               White-Tailed Deer, White-Tailed Deer                 NaN                  366                        968                                  218                     570\n",
      "8    Mammal                     Sus scrofa                                Feral Hog, Wild Pig                 NaN                  480                        898                                  410                     544\n",
      "9    Mammal                     Sus scrofa             Pig, Pig (Feral), Wild Boar, Wild Boar                 NaN                  480                        898                                  410                     544\n",
      "10   Mammal                  Canis latrans                                             Coyote  Species of Concern                   85                        206                                   68                      99\n",
      "11   Mammal                    Canis lupus                                          Gray Wolf          Endangered                  390                        990                                  177                     588\n",
      "12   Mammal                    Canis lupus                                    Gray Wolf, Wolf         In Recovery                  390                        990                                  177                     588\n",
      "13   Mammal                    Canis rufus                                           Red Wolf          Endangered                   30                         60                                   13                      34\n",
      "14   Mammal       Urocyon cinereoargenteus                          Common Gray Fox, Gray Fox                 NaN                  494                        908                                  324                     672\n",
      "15   Mammal       Urocyon cinereoargenteus                                           Gray Fox                 NaN                  494                        908                                  324                     672\n",
      "16   Mammal                   Vulpes fulva          Black Fox, Cross Fox, Red Fox, Silver Fox                 NaN                  114                        227                                   66                     133\n",
      "17   Mammal                  Vulpes vulpes                                            Red Fox                 NaN                   82                        258                                   76                     134\n",
      "18   Mammal                 Felis concolor                                      Mountain Lion                 NaN                   65                        284                                   72                     146\n",
      "19   Mammal               Felis silvestris                                  Wild Cat, Wildcat                 NaN                  103                        259                                   61                     150\n"
     ]
    }
   ],
   "source": [
    "biodiversity_updated_df = new_biodiversity;\n",
    "#print(biodiversity_updated_df.head());\n",
    "#print(biodiversity_updated_df.category.unique())\n",
    "#print(biodiversity_updated_df[biodiversity_updated_df['conservation_status'] == 'In Recovery']);\n",
    "print(biodiversity_updated_df.head(20));"
   ]
  },
  {
   "cell_type": "code",
   "execution_count": 342,
   "metadata": {},
   "outputs": [
    {
     "data": {
      "image/png": "[encoded data removed]",
      "text/plain": [
       "<Figure size 800x600 with 1 Axes>"
      ]
     },
     "metadata": {},
     "output_type": "display_data"
    }
   ],
   "source": [
    "plt.figure(figsize=(8,6));\n",
    "sns.countplot(x = biodiversity_updated_df[\"category\"], order = biodiversity_updated_df[\"category\"].value_counts(ascending=True).index);\n",
    "plt.xticks(rotation = 30);\n",
    "plt.xlabel('number of species');\n",
    "plt.ylabel(\"Species categories\");\n",
    "plt.show();"
   ]
  },
  {
   "cell_type": "code",
   "execution_count": 343,
   "metadata": {},
   "outputs": [
    {
     "name": "stdout",
     "output_type": "stream",
     "text": [
      "{'Species of Concern': 28, 'Endangered': 6, 'Threatened': 2, 'In Recovery': 1}\n"
     ]
    }
   ],
   "source": [
    "def conservation_stat(category):\n",
    "    stat_serie = {'Species of Concern':0 , 'Endangered':0, 'Threatened':0, 'In Recovery':0};\n",
    "    for loc_index in range(0,len(biodiversity_updated_df)):\n",
    "        if biodiversity_updated_df.category[loc_index] == category and biodiversity_updated_df['conservation_status'][loc_index] != np.nan:\n",
    "            if biodiversity_updated_df['conservation_status'][loc_index] == 'In Recovery':\n",
    "                stat_serie['In Recovery'] += 1;\n",
    "            elif biodiversity_updated_df['conservation_status'][loc_index] == 'Species of Concern':\n",
    "                stat_serie['Species of Concern'] += 1;\n",
    "            elif biodiversity_updated_df['conservation_status'][loc_index] == 'Endangered':\n",
    "                stat_serie['Endangered'] += 1;\n",
    "            elif biodiversity_updated_df['conservation_status'][loc_index] == 'Threatened':\n",
    "                stat_serie['Threatened'] += 1;\n",
    "    return stat_serie;\n",
    "\n",
    "mammal_stats = conservation_stat('Mammal');\n",
    "print(mammal_stats);"
   ]
  },
  {
   "cell_type": "code",
   "execution_count": 344,
   "metadata": {},
   "outputs": [
    {
     "name": "stdout",
     "output_type": "stream",
     "text": [
      "{'Mammal': [28, 6, 2, 1], 'Bird': [72, 4, 0, 3], 'Reptile': [5, 0, 0, 0], 'Amphibian': [4, 1, 2, 0], 'Fish': [4, 3, 3, 0], 'Vascular Plant': [43, 1, 2, 0], 'Nonvascular Plant': [5, 0, 0, 0]}\n"
     ]
    }
   ],
   "source": [
    "unique_conservation_status = ('Species of Concern','Endangered','Threatened','In Recovery');\n",
    "stats_per_category = {'Mammal':[],'Bird':[],'Reptile':[],'Amphibian':[],'Fish':[],'Vascular Plant':[],'Nonvascular Plant':[]}\n",
    "\n",
    "for key in stats_per_category.keys():\n",
    "    stat_object = conservation_stat(key);\n",
    "    for skey in stat_object.keys():\n",
    "        stats_per_category[key].append(stat_object[skey]);\n",
    "\n",
    "print(stats_per_category);"
   ]
  },
  {
   "cell_type": "code",
   "execution_count": 347,
   "metadata": {},
   "outputs": [
    {
     "data": {
      "image/png": "[encoded data removed]",
      "text/plain": [
       "<Figure size 800x600 with 1 Axes>"
      ]
     },
     "metadata": {},
     "output_type": "display_data"
    }
   ],
   "source": [
    "fig, ax = plt.subplots(figsize=(8,6));\n",
    "bottom = np.zeros(4);\n",
    "width = 0.5;\n",
    "\n",
    "for category, stat in stats_per_category.items():\n",
    "    p = ax.bar(unique_conservation_status, stat, width, label = category,  bottom = bottom)\n",
    "    bottom += stat\n",
    "\n",
    "ax.set_title(\"Conservation status per number of species\")\n",
    "ax.legend(loc=\"upper right\")\n",
    "\n",
    "plt.show()"
   ]
  },
  {
   "cell_type": "code",
   "execution_count": null,
   "metadata": {},
   "outputs": [],
   "source": []
  }
 ],
 "metadata": {
  "kernelspec": {
   "display_name": "base",
   "language": "python",
   "name": "python3"
  },
  "language_info": {
   "codemirror_mode": {
    "name": "ipython",
    "version": 3
   },
   "file_extension": ".py",
   "mimetype": "text/x-python",
   "name": "python",
   "nbconvert_exporter": "python",
   "pygments_lexer": "ipython3",
   "version": "3.9.13"
  }
 },
 "nbformat": 4,
 "nbformat_minor": 4
}
